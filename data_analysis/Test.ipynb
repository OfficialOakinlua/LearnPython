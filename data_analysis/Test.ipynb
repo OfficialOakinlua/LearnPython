{
 "cells": [
  {
   "cell_type": "code",
   "execution_count": 2,
   "metadata": {},
   "outputs": [
    {
     "name": "stdout",
     "output_type": "stream",
     "text": [
      "1\n",
      "2\n"
     ]
    }
   ],
   "source": [
    "print(1)\n",
    "print(2)"
   ]
  },
  {
   "cell_type": "code",
   "execution_count": 6,
   "metadata": {},
   "outputs": [
    {
     "name": "stdout",
     "output_type": "stream",
     "text": [
      "3\n"
     ]
    }
   ],
   "source": [
    "print(3)"
   ]
  },
  {
   "cell_type": "code",
   "execution_count": 2,
   "metadata": {},
   "outputs": [],
   "source": [
    "#to write multiple line codes, simple press enter\n",
    "#put to ouput the code, press Ctrl + Enter\n",
    "#remember we assume that this is a cell and once you press Ctrl + Enter you have sort of closed the cell though you can still\n",
    "#edit that cell after closing it\n",
    "#to open another cell, Alt + Enter will do it\n",
    "#if you love to delete a cell, you can press Esc first, then press the d key twice"
   ]
  },
  {
   "cell_type": "code",
   "execution_count": 3,
   "metadata": {},
   "outputs": [
    {
     "data": {
      "text/html": [
       "<div>\n",
       "<style scoped>\n",
       "    .dataframe tbody tr th:only-of-type {\n",
       "        vertical-align: middle;\n",
       "    }\n",
       "\n",
       "    .dataframe tbody tr th {\n",
       "        vertical-align: top;\n",
       "    }\n",
       "\n",
       "    .dataframe thead th {\n",
       "        text-align: right;\n",
       "    }\n",
       "</style>\n",
       "<table border=\"1\" class=\"dataframe\">\n",
       "  <thead>\n",
       "    <tr style=\"text-align: right;\">\n",
       "      <th></th>\n",
       "      <th>Name</th>\n",
       "      <th>Age</th>\n",
       "      <th>Job</th>\n",
       "      <th>School</th>\n",
       "      <th>Group</th>\n",
       "    </tr>\n",
       "  </thead>\n",
       "  <tbody>\n",
       "    <tr>\n",
       "      <th>0</th>\n",
       "      <td>Akinlua, Olorunfemi</td>\n",
       "      <td>19</td>\n",
       "      <td>Data and Machine Learning Engineer, Control En...</td>\n",
       "      <td>OAU</td>\n",
       "      <td>Control and Computation Group</td>\n",
       "    </tr>\n",
       "    <tr>\n",
       "      <th>1</th>\n",
       "      <td>Arigbede, Jacob</td>\n",
       "      <td>21</td>\n",
       "      <td>Design Engineer</td>\n",
       "      <td>OAU</td>\n",
       "      <td>Engineering Design Group</td>\n",
       "    </tr>\n",
       "    <tr>\n",
       "      <th>2</th>\n",
       "      <td>Adetunji, Simi</td>\n",
       "      <td>21</td>\n",
       "      <td>Design Engineer</td>\n",
       "      <td>OAU</td>\n",
       "      <td>Engineering Design Group</td>\n",
       "    </tr>\n",
       "    <tr>\n",
       "      <th>3</th>\n",
       "      <td>Arojo, Timi</td>\n",
       "      <td>20</td>\n",
       "      <td>Software Developer, Simulation Expert</td>\n",
       "      <td>OAU</td>\n",
       "      <td>Control and Computation Group</td>\n",
       "    </tr>\n",
       "    <tr>\n",
       "      <th>4</th>\n",
       "      <td>Olaoye, Laolu</td>\n",
       "      <td>22</td>\n",
       "      <td>Mechanical Engineer</td>\n",
       "      <td>OAU</td>\n",
       "      <td>Mechanics Group</td>\n",
       "    </tr>\n",
       "  </tbody>\n",
       "</table>\n",
       "</div>"
      ],
      "text/plain": [
       "                  Name  Age  \\\n",
       "0  Akinlua, Olorunfemi   19   \n",
       "1      Arigbede, Jacob   21   \n",
       "2       Adetunji, Simi   21   \n",
       "3          Arojo, Timi   20   \n",
       "4        Olaoye, Laolu   22   \n",
       "\n",
       "                                                 Job School  \\\n",
       "0  Data and Machine Learning Engineer, Control En...    OAU   \n",
       "1                                    Design Engineer    OAU   \n",
       "2                                    Design Engineer    OAU   \n",
       "3              Software Developer, Simulation Expert    OAU   \n",
       "4                                Mechanical Engineer    OAU   \n",
       "\n",
       "                           Group  \n",
       "0  Control and Computation Group  \n",
       "1       Engineering Design Group  \n",
       "2       Engineering Design Group  \n",
       "3  Control and Computation Group  \n",
       "4                Mechanics Group  "
      ]
     },
     "execution_count": 3,
     "metadata": {},
     "output_type": "execute_result"
    }
   ],
   "source": [
    "#lets work on some csv files\n",
    "#import pandas\n",
    "import pandas\n",
    "\n",
    "#let read the csv file using pandas\n",
    "df = pandas.read_csv(\"/Users/Hp/Documents/GitHub/LearnPython/data_analysis/files/Test.csv\")\n",
    "df\n",
    "\n",
    "#check 32 and 33.png for csv and output"
   ]
  }
 ],
 "metadata": {
  "kernelspec": {
   "display_name": "Python 3",
   "language": "python",
   "name": "python3"
  },
  "language_info": {
   "codemirror_mode": {
    "name": "ipython",
    "version": 3
   },
   "file_extension": ".py",
   "mimetype": "text/x-python",
   "name": "python",
   "nbconvert_exporter": "python",
   "pygments_lexer": "ipython3",
   "version": "3.5.2"
  }
 },
 "nbformat": 4,
 "nbformat_minor": 4
}
