{
 "cells": [
  {
   "cell_type": "code",
   "execution_count": 2,
   "metadata": {},
   "outputs": [],
   "source": [
    "from IPython.display import display\n",
    "import ipywidgets as widgets\n",
    "from ipywidgets import Output\n",
    "import pandas as pd\n",
    "from ipyleaflet import Map\n",
    "import json"
   ]
  },
  {
   "cell_type": "code",
   "execution_count": 5,
   "metadata": {},
   "outputs": [
    {
     "data": {
      "text/html": [
       "<div>\n",
       "<style scoped>\n",
       "    .dataframe tbody tr th:only-of-type {\n",
       "        vertical-align: middle;\n",
       "    }\n",
       "\n",
       "    .dataframe tbody tr th {\n",
       "        vertical-align: top;\n",
       "    }\n",
       "\n",
       "    .dataframe thead th {\n",
       "        text-align: right;\n",
       "    }\n",
       "</style>\n",
       "<table border=\"1\" class=\"dataframe\">\n",
       "  <thead>\n",
       "    <tr style=\"text-align: right;\">\n",
       "      <th></th>\n",
       "      <th>city</th>\n",
       "      <th>variables</th>\n",
       "      <th>jan</th>\n",
       "      <th>feb</th>\n",
       "      <th>mar</th>\n",
       "      <th>apr</th>\n",
       "      <th>may</th>\n",
       "      <th>jun</th>\n",
       "      <th>jul</th>\n",
       "      <th>aug</th>\n",
       "      <th>sep</th>\n",
       "      <th>oct</th>\n",
       "      <th>nov</th>\n",
       "      <th>dec</th>\n",
       "    </tr>\n",
       "  </thead>\n",
       "  <tbody>\n",
       "    <tr>\n",
       "      <th>0</th>\n",
       "      <td>Osogbo</td>\n",
       "      <td>sunny</td>\n",
       "      <td>9.2</td>\n",
       "      <td>4.2</td>\n",
       "      <td>1.2</td>\n",
       "      <td>0.5</td>\n",
       "      <td>0.5</td>\n",
       "      <td>0.1</td>\n",
       "      <td>0.0</td>\n",
       "      <td>0.0</td>\n",
       "      <td>0.0</td>\n",
       "      <td>0.0</td>\n",
       "      <td>0.3</td>\n",
       "      <td>4.0</td>\n",
       "    </tr>\n",
       "    <tr>\n",
       "      <th>1</th>\n",
       "      <td>Osogbo</td>\n",
       "      <td>cloudy</td>\n",
       "      <td>21.2</td>\n",
       "      <td>22.8</td>\n",
       "      <td>26.3</td>\n",
       "      <td>23.5</td>\n",
       "      <td>19.5</td>\n",
       "      <td>13.9</td>\n",
       "      <td>10.9</td>\n",
       "      <td>10.6</td>\n",
       "      <td>8.8</td>\n",
       "      <td>18.1</td>\n",
       "      <td>27.4</td>\n",
       "      <td>26.0</td>\n",
       "    </tr>\n",
       "    <tr>\n",
       "      <th>2</th>\n",
       "      <td>Osogbo</td>\n",
       "      <td>precipitation</td>\n",
       "      <td>4.1</td>\n",
       "      <td>4.7</td>\n",
       "      <td>8.0</td>\n",
       "      <td>14.9</td>\n",
       "      <td>20.8</td>\n",
       "      <td>25.1</td>\n",
       "      <td>24.6</td>\n",
       "      <td>21.8</td>\n",
       "      <td>26.7</td>\n",
       "      <td>19.8</td>\n",
       "      <td>4.7</td>\n",
       "      <td>3.8</td>\n",
       "    </tr>\n",
       "    <tr>\n",
       "      <th>3</th>\n",
       "      <td>Ile-Ife</td>\n",
       "      <td>sunny</td>\n",
       "      <td>7.1</td>\n",
       "      <td>3.3</td>\n",
       "      <td>1.6</td>\n",
       "      <td>1.4</td>\n",
       "      <td>0.7</td>\n",
       "      <td>0.0</td>\n",
       "      <td>0.0</td>\n",
       "      <td>0.0</td>\n",
       "      <td>0.0</td>\n",
       "      <td>0.0</td>\n",
       "      <td>0.2</td>\n",
       "      <td>2.8</td>\n",
       "    </tr>\n",
       "    <tr>\n",
       "      <th>4</th>\n",
       "      <td>Ile-Ife</td>\n",
       "      <td>cloudy</td>\n",
       "      <td>23.2</td>\n",
       "      <td>23.8</td>\n",
       "      <td>26.0</td>\n",
       "      <td>23.1</td>\n",
       "      <td>19.7</td>\n",
       "      <td>14.3</td>\n",
       "      <td>12.5</td>\n",
       "      <td>11.3</td>\n",
       "      <td>9.9</td>\n",
       "      <td>17.8</td>\n",
       "      <td>27.4</td>\n",
       "      <td>27.0</td>\n",
       "    </tr>\n",
       "    <tr>\n",
       "      <th>5</th>\n",
       "      <td>Ile-Ife</td>\n",
       "      <td>precipitation</td>\n",
       "      <td>2.9</td>\n",
       "      <td>4.1</td>\n",
       "      <td>7.8</td>\n",
       "      <td>15.8</td>\n",
       "      <td>22.1</td>\n",
       "      <td>25.6</td>\n",
       "      <td>22.5</td>\n",
       "      <td>20.3</td>\n",
       "      <td>25.6</td>\n",
       "      <td>21.5</td>\n",
       "      <td>5.5</td>\n",
       "      <td>3.4</td>\n",
       "    </tr>\n",
       "    <tr>\n",
       "      <th>6</th>\n",
       "      <td>Ilesa</td>\n",
       "      <td>sunny</td>\n",
       "      <td>9.2</td>\n",
       "      <td>4.2</td>\n",
       "      <td>1.2</td>\n",
       "      <td>0.5</td>\n",
       "      <td>0.5</td>\n",
       "      <td>0.1</td>\n",
       "      <td>0.0</td>\n",
       "      <td>0.0</td>\n",
       "      <td>0.0</td>\n",
       "      <td>0.0</td>\n",
       "      <td>0.3</td>\n",
       "      <td>4.0</td>\n",
       "    </tr>\n",
       "    <tr>\n",
       "      <th>7</th>\n",
       "      <td>Ilesa</td>\n",
       "      <td>cloudy</td>\n",
       "      <td>21.2</td>\n",
       "      <td>22.8</td>\n",
       "      <td>26.3</td>\n",
       "      <td>23.5</td>\n",
       "      <td>19.5</td>\n",
       "      <td>13.9</td>\n",
       "      <td>10.9</td>\n",
       "      <td>10.6</td>\n",
       "      <td>8.8</td>\n",
       "      <td>18.1</td>\n",
       "      <td>27.4</td>\n",
       "      <td>26.0</td>\n",
       "    </tr>\n",
       "    <tr>\n",
       "      <th>8</th>\n",
       "      <td>Ilesa</td>\n",
       "      <td>precipitation</td>\n",
       "      <td>4.1</td>\n",
       "      <td>4.7</td>\n",
       "      <td>8.0</td>\n",
       "      <td>14.9</td>\n",
       "      <td>20.8</td>\n",
       "      <td>25.1</td>\n",
       "      <td>24.6</td>\n",
       "      <td>21.8</td>\n",
       "      <td>26.7</td>\n",
       "      <td>19.8</td>\n",
       "      <td>4.7</td>\n",
       "      <td>3.9</td>\n",
       "    </tr>\n",
       "    <tr>\n",
       "      <th>9</th>\n",
       "      <td>Iwo</td>\n",
       "      <td>sunny</td>\n",
       "      <td>10.0</td>\n",
       "      <td>5.6</td>\n",
       "      <td>2.7</td>\n",
       "      <td>2.2</td>\n",
       "      <td>1.1</td>\n",
       "      <td>0.1</td>\n",
       "      <td>0.0</td>\n",
       "      <td>0.1</td>\n",
       "      <td>0.0</td>\n",
       "      <td>0.0</td>\n",
       "      <td>0.2</td>\n",
       "      <td>0.2</td>\n",
       "    </tr>\n",
       "    <tr>\n",
       "      <th>10</th>\n",
       "      <td>Iwo</td>\n",
       "      <td>cloudy</td>\n",
       "      <td>20.7</td>\n",
       "      <td>21.8</td>\n",
       "      <td>25.1</td>\n",
       "      <td>22.3</td>\n",
       "      <td>19.6</td>\n",
       "      <td>14.6</td>\n",
       "      <td>11.6</td>\n",
       "      <td>11.1</td>\n",
       "      <td>9.6</td>\n",
       "      <td>18.5</td>\n",
       "      <td>27.6</td>\n",
       "      <td>27.6</td>\n",
       "    </tr>\n",
       "    <tr>\n",
       "      <th>11</th>\n",
       "      <td>Iwo</td>\n",
       "      <td>precipitation</td>\n",
       "      <td>3.1</td>\n",
       "      <td>3.9</td>\n",
       "      <td>6.6</td>\n",
       "      <td>13.4</td>\n",
       "      <td>19.9</td>\n",
       "      <td>24.5</td>\n",
       "      <td>22.9</td>\n",
       "      <td>20.5</td>\n",
       "      <td>26.0</td>\n",
       "      <td>18.6</td>\n",
       "      <td>4.1</td>\n",
       "      <td>4.1</td>\n",
       "    </tr>\n",
       "  </tbody>\n",
       "</table>\n",
       "</div>"
      ],
      "text/plain": [
       "       city      variables   jan   feb   mar   apr   may   jun   jul   aug  \\\n",
       "0    Osogbo          sunny   9.2   4.2   1.2   0.5   0.5   0.1   0.0   0.0   \n",
       "1    Osogbo         cloudy  21.2  22.8  26.3  23.5  19.5  13.9  10.9  10.6   \n",
       "2    Osogbo  precipitation   4.1   4.7   8.0  14.9  20.8  25.1  24.6  21.8   \n",
       "3   Ile-Ife          sunny   7.1   3.3   1.6   1.4   0.7   0.0   0.0   0.0   \n",
       "4   Ile-Ife         cloudy  23.2  23.8  26.0  23.1  19.7  14.3  12.5  11.3   \n",
       "5   Ile-Ife  precipitation   2.9   4.1   7.8  15.8  22.1  25.6  22.5  20.3   \n",
       "6     Ilesa          sunny   9.2   4.2   1.2   0.5   0.5   0.1   0.0   0.0   \n",
       "7     Ilesa         cloudy  21.2  22.8  26.3  23.5  19.5  13.9  10.9  10.6   \n",
       "8     Ilesa  precipitation   4.1   4.7   8.0  14.9  20.8  25.1  24.6  21.8   \n",
       "9       Iwo          sunny  10.0   5.6   2.7   2.2   1.1   0.1   0.0   0.1   \n",
       "10      Iwo         cloudy  20.7  21.8  25.1  22.3  19.6  14.6  11.6  11.1   \n",
       "11      Iwo  precipitation   3.1   3.9   6.6  13.4  19.9  24.5  22.9  20.5   \n",
       "\n",
       "     sep   oct   nov   dec  \n",
       "0    0.0   0.0   0.3   4.0  \n",
       "1    8.8  18.1  27.4  26.0  \n",
       "2   26.7  19.8   4.7   3.8  \n",
       "3    0.0   0.0   0.2   2.8  \n",
       "4    9.9  17.8  27.4  27.0  \n",
       "5   25.6  21.5   5.5   3.4  \n",
       "6    0.0   0.0   0.3   4.0  \n",
       "7    8.8  18.1  27.4  26.0  \n",
       "8   26.7  19.8   4.7   3.9  \n",
       "9    0.0   0.0   0.2   0.2  \n",
       "10   9.6  18.5  27.6  27.6  \n",
       "11  26.0  18.6   4.1   4.1  "
      ]
     },
     "execution_count": 5,
     "metadata": {},
     "output_type": "execute_result"
    }
   ],
   "source": [
    "weather = pd.read_csv(\"osun_weather.csv\")\n",
    "weather"
   ]
  },
  {
   "cell_type": "code",
   "execution_count": 7,
   "metadata": {},
   "outputs": [
    {
     "data": {
      "text/plain": [
       "{'All': {'lat': 7.5629, 'lng': 4.52},\n",
       " 'Osogbo': {'lat': 7.7827, 'lng': 4.5418},\n",
       " 'Ile-Ife': {'lat': 7.4905, 'lng': 4.5521},\n",
       " 'Ilesa': {'lat': 7.6395, 'lng': 4.7588},\n",
       " 'Iwo': {'lat': 7.6292, 'lng': 4.1872}}"
      ]
     },
     "execution_count": 7,
     "metadata": {},
     "output_type": "execute_result"
    }
   ],
   "source": [
    "out = Output()\n",
    "cds = {}\n",
    "with open('latlng.json') as fp:\n",
    "    cds = json.load(fp)\n",
    "\n",
    "cds"
   ]
  },
  {
   "cell_type": "code",
   "execution_count": 9,
   "metadata": {},
   "outputs": [],
   "source": [
    "with out:\n",
    "    display(weather)"
   ]
  },
  {
   "cell_type": "code",
   "execution_count": 11,
   "metadata": {},
   "outputs": [],
   "source": [
    "weather_cities = [\"All\"] + list(weather.city.unique())\n",
    "variables_type = [\"All\"] + list(weather.variables.unique())"
   ]
  },
  {
   "cell_type": "code",
   "execution_count": 14,
   "metadata": {},
   "outputs": [
    {
     "data": {
      "text/plain": [
       "5.1"
      ]
     },
     "execution_count": 14,
     "metadata": {},
     "output_type": "execute_result"
    }
   ],
   "source": [
    "dd_city = widgets.Dropdown(options = weather_cities, description = \"City\")\n",
    "dd_variables = widgets.Dropdown(options = variables_type, description = \"Variables\")\n",
    "float_min_hilite = widgets.FloatText(value = 5.0, description = \"Highlighter\")\n",
    "color_picker = widgets.ColorPicker(value = 'blue', description = \"Highlight Color\")\n",
    "\n",
    "my_map = Map(center = [35.5175, -86.5804], zoom = 7)\n",
    "\n",
    "hbox1 = widgets.HBox([dd_city, dd_variables])\n",
    "hbox2 = widgets.HBox([float_min_hilite, color_picker])\n",
    "\n",
    "vbox = widgets.VBox([hbox1, hbox2])\n",
    "\n",
    "tab = widgets.Tab()\n",
    "tab.children = [vbox, my_map]\n",
    "tab.set_title(0, 'Variables')\n",
    "tab.set_title(1, 'Map')\n",
    "\n",
    "float_min_hilite.value + 0.1"
   ]
  },
  {
   "cell_type": "code",
   "execution_count": 16,
   "metadata": {},
   "outputs": [],
   "source": [
    "def hilite_variables(variables):\n",
    "    return \"color: {0}\".format(color_picker.value if variables >= float_min_hilite.value else 'black')\n",
    "\n",
    "def query_weather(city, variables):\n",
    "    out.clear_output()\n",
    "    city_filter = weather if city == \"All\" else weather[weather.city == city]\n",
    "    variables_filter = city_filter if variables == \"All\" else city_filter[city_filter.variables == variables]\n",
    "    with out:\n",
    "        display(variables_filter.style.applymap(hilite_variables, subset = variables_filter.columns[2:]))\n",
    "\n",
    "def displayVisuals(city):\n",
    "    "
   ]
  },
  {
   "cell_type": "code",
   "execution_count": 15,
   "metadata": {},
   "outputs": [],
   "source": [
    "def dd_city_observer(bunch):\n",
    "    cd = cds[bunch.new]\n",
    "    my_map.center = [cd['lat'], cd['lng']]\n",
    "    my_map.zoom = 7 if bunch.new == \"All\" else 10\n",
    "    query_weather(bunch.new, dd_variables.value)\n",
    "    \n",
    "def dd_variables_observer(bunch):\n",
    "    query_weather(dd_city.value, bunch.new)\n",
    "    \n",
    "def float_min_hilite_observer(bunch):\n",
    "    query_weather(dd_city.value, dd_variables.value)\n",
    "\n",
    "def color_picker_observer(bunch):\n",
    "    query_weather(dd_city.value, dd_variables.value)"
   ]
  },
  {
   "cell_type": "code",
   "execution_count": 19,
   "metadata": {},
   "outputs": [],
   "source": [
    "dd_city.observe(dd_city_observer, names = \"value\")\n",
    "dd_variables.observe(dd_variables_observer, names = \"value\")\n",
    "float_min_hilite.observe(float_min_hilite_observer, names = \"value\")\n",
    "color_picker.observe(color_picker_observer, names = \"value\")"
   ]
  },
  {
   "cell_type": "code",
   "execution_count": 21,
   "metadata": {
    "scrolled": false
   },
   "outputs": [
    {
     "data": {
      "application/vnd.jupyter.widget-view+json": {
       "model_id": "eab65a7a84c145d58a9f37601929a0a1",
       "version_major": 2,
       "version_minor": 0
      },
      "text/plain": [
       "Tab(children=(VBox(children=(HBox(children=(Dropdown(description='City', index=1, options=('All', 'Osogbo', 'I…"
      ]
     },
     "metadata": {},
     "output_type": "display_data"
    }
   ],
   "source": [
    "display(tab)"
   ]
  },
  {
   "cell_type": "code",
   "execution_count": 22,
   "metadata": {},
   "outputs": [
    {
     "data": {
      "application/vnd.jupyter.widget-view+json": {
       "model_id": "96d828ea066d4094a717a722de4b8d65",
       "version_major": 2,
       "version_minor": 0
      },
      "text/plain": [
       "Output(outputs=({'output_type': 'display_data', 'data': {'text/plain': '<pandas.io.formats.style.Styler at 0x1…"
      ]
     },
     "metadata": {},
     "output_type": "display_data"
    }
   ],
   "source": [
    "display(out)"
   ]
  },
  {
   "cell_type": "code",
   "execution_count": null,
   "metadata": {},
   "outputs": [],
   "source": []
  }
 ],
 "metadata": {
  "kernelspec": {
   "display_name": "Python 3",
   "language": "python",
   "name": "python3"
  },
  "language_info": {
   "codemirror_mode": {
    "name": "ipython",
    "version": 3
   },
   "file_extension": ".py",
   "mimetype": "text/x-python",
   "name": "python",
   "nbconvert_exporter": "python",
   "pygments_lexer": "ipython3",
   "version": "3.7.6"
  }
 },
 "nbformat": 4,
 "nbformat_minor": 4
}
